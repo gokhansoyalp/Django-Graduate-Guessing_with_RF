{
  "nbformat": 4,
  "nbformat_minor": 0,
  "metadata": {
    "colab": {
      "provenance": []
    },
    "kernelspec": {
      "name": "python3",
      "display_name": "Python 3"
    },
    "language_info": {
      "name": "python"
    },
    "accelerator": "GPU"
  },
  "cells": [
    {
      "cell_type": "code",
      "execution_count": null,
      "metadata": {
        "id": "9k3hZV-Ei_y-"
      },
      "outputs": [],
      "source": [
        "#check gpu running\n",
        "import tensorflow as tf\n",
        "device_name = tf.test.gpu_device_name()\n",
        "if device_name != '/device:GPU:0':\n",
        "  raise SystemError('GPU device not found')\n",
        "print('Found GPU at: {}'.format(device_name))"
      ]
    },
    {
      "cell_type": "code",
      "source": [
        "%matplotlib inline"
      ],
      "metadata": {
        "id": "No9JhpIfjOLQ"
      },
      "execution_count": null,
      "outputs": []
    },
    {
      "cell_type": "code",
      "source": [
        "from google.colab import drive\n",
        "drive.mount('/content/gdrive')"
      ],
      "metadata": {
        "id": "gEhO8LaSjP4g"
      },
      "execution_count": null,
      "outputs": []
    },
    {
      "cell_type": "code",
      "source": [
        "import os\n",
        "\n",
        "print(\"cwd \", os.getcwd())\n",
        "print(\"ls \", os.listdir())"
      ],
      "metadata": {
        "id": "yVdCCycqjS8s"
      },
      "execution_count": null,
      "outputs": []
    },
    {
      "cell_type": "code",
      "source": [
        "path=\"/content/gdrive/My Drive/\"\n",
        "print(\"ls \", os.listdir(path))"
      ],
      "metadata": {
        "id": "fGIHFGbGjWQ1"
      },
      "execution_count": null,
      "outputs": []
    },
    {
      "cell_type": "code",
      "source": [
        "import matplotlib.pyplot as plt\n",
        "import pandas as pd\n",
        "import numpy as np"
      ],
      "metadata": {
        "id": "_vUKR1VqjYd_"
      },
      "execution_count": null,
      "outputs": []
    },
    {
      "cell_type": "code",
      "source": [
        "df = pd.DataFrame()\n",
        "df = pd.read_csv(path+'veriler.csv', encoding='utf-8')\n",
        "df.head(23)"
      ],
      "metadata": {
        "id": "Fc1QIMH4lk30"
      },
      "execution_count": null,
      "outputs": []
    },
    {
      "cell_type": "code",
      "source": [
        "df.isnull().sum()"
      ],
      "metadata": {
        "id": "hA4g9Gfv5COx"
      },
      "execution_count": null,
      "outputs": []
    },
    {
      "cell_type": "code",
      "source": [
        "import pandas as pd\n",
        "import numpy as np\n",
        "from sklearn import pipeline,preprocessing,metrics,model_selection,ensemble\n",
        "from sklearn_pandas import DataFrameMapper"
      ],
      "metadata": {
        "id": "CP8rj3ykK1dI"
      },
      "execution_count": null,
      "outputs": []
    },
    {
      "cell_type": "code",
      "source": [
        "mapper = DataFrameMapper([\n",
        "                        (['Mevcut_ogr_say','Mezun_ogr_say'], preprocessing.StandardScaler()),\n",
        "                        (['Mezun_ogr_say'], preprocessing.OneHotEncoder(handle_unknown = \"ignore\"))\n",
        "                        ])"
      ],
      "metadata": {
        "id": "IY9VNo956iF4"
      },
      "execution_count": null,
      "outputs": []
    },
    {
      "cell_type": "code",
      "source": [
        "pipeline_obj = pipeline.Pipeline([\n",
        "    ('mapper',mapper),\n",
        "    (\"model\", ensemble.RandomForestRegressor())\n",
        "])"
      ],
      "metadata": {
        "id": "F1R6kx8oBg7s"
      },
      "execution_count": null,
      "outputs": []
    },
    {
      "cell_type": "code",
      "source": [
        "X=['Mevcut_ogr_say','Mezun_ogr_say']\n",
        "Y=['Mevcut_ogr_say']"
      ],
      "metadata": {
        "id": "ZmIRE9TMFQkK"
      },
      "execution_count": null,
      "outputs": []
    },
    {
      "cell_type": "code",
      "source": [
        "df.columns"
      ],
      "metadata": {
        "id": "-Zir3vewL2j3"
      },
      "execution_count": null,
      "outputs": []
    },
    {
      "cell_type": "code",
      "source": [
        "pipeline_obj.fit(df[X],df[Y])"
      ],
      "metadata": {
        "id": "9LCAL7scLunW"
      },
      "execution_count": null,
      "outputs": []
    },
    {
      "cell_type": "code",
      "source": [
        "pipeline_obj.predict(df[X])"
      ],
      "metadata": {
        "id": "KXmPjQIsMlMl"
      },
      "execution_count": null,
      "outputs": []
    },
    {
      "cell_type": "code",
      "source": [
        "import joblib"
      ],
      "metadata": {
        "id": "hJ38ql30MxH1"
      },
      "execution_count": null,
      "outputs": []
    },
    {
      "cell_type": "code",
      "source": [
        "joblib.dump(pipeline_obj,'RFModelforEducation.pkl')"
      ],
      "metadata": {
        "id": "FTH2O_S7MxxO"
      },
      "execution_count": null,
      "outputs": []
    },
    {
      "cell_type": "code",
      "source": [
        "modelReload=joblib.load('RFModelforEducation.pkl')"
      ],
      "metadata": {
        "id": "49xHUtenNK5L"
      },
      "execution_count": null,
      "outputs": []
    },
    {
      "cell_type": "code",
      "source": [
        "modelReload.predict(df[X])"
      ],
      "metadata": {
        "id": "52OZdO8TNToK"
      },
      "execution_count": null,
      "outputs": []
    },
    {
      "cell_type": "code",
      "source": [
        "temp={}\n",
        "temp['Mevcut_ogr_say']=1\n",
        "temp['Mezun_ogr_say']=2"
      ],
      "metadata": {
        "id": "f15C87ctNb5h"
      },
      "execution_count": null,
      "outputs": []
    },
    {
      "cell_type": "code",
      "source": [
        "testDtaa=pd.DataFrame({'x':temp}).transpose()"
      ],
      "metadata": {
        "id": "8XrOoJXuNxz0"
      },
      "execution_count": null,
      "outputs": []
    },
    {
      "cell_type": "code",
      "source": [
        "testDtaa"
      ],
      "metadata": {
        "id": "-y-IngguN1qc"
      },
      "execution_count": null,
      "outputs": []
    },
    {
      "cell_type": "code",
      "source": [
        "modelReload.predict(testDtaa)[0]"
      ],
      "metadata": {
        "id": "uW3yS9vhN6R_"
      },
      "execution_count": null,
      "outputs": []
    }
  ]
}