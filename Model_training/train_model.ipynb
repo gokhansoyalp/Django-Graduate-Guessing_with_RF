{
  "nbformat": 4,
  "nbformat_minor": 0,
  "metadata": {
    "colab": {
      "provenance": []
    },
    "kernelspec": {
      "name": "python3",
      "display_name": "Python 3"
    },
    "language_info": {
      "name": "python"
    },
    "accelerator": "GPU"
  },
  "cells": [
    {
      "cell_type": "code",
      "execution_count": null,
      "metadata": {
        "colab": {
          "base_uri": "https://localhost:8080/"
        },
        "id": "9k3hZV-Ei_y-",
        "outputId": "893ff88b-a821-49a0-a290-735c0ee322f9"
      },
      "outputs": [
        {
          "output_type": "stream",
          "name": "stdout",
          "text": [
            "Found GPU at: /device:GPU:0\n"
          ]
        }
      ],
      "source": [
        "#check gpu running\n",
        "import tensorflow as tf\n",
        "device_name = tf.test.gpu_device_name()\n",
        "if device_name != '/device:GPU:0':\n",
        "  raise SystemError('GPU device not found')\n",
        "print('Found GPU at: {}'.format(device_name))"
      ]
    },
    {
      "cell_type": "code",
      "source": [
        "%matplotlib inline"
      ],
      "metadata": {
        "id": "No9JhpIfjOLQ"
      },
      "execution_count": null,
      "outputs": []
    },
    {
      "cell_type": "code",
      "source": [
        "from google.colab import drive\n",
        "drive.mount('/content/gdrive')"
      ],
      "metadata": {
        "colab": {
          "base_uri": "https://localhost:8080/"
        },
        "id": "gEhO8LaSjP4g",
        "outputId": "86558c51-b7cf-42df-8115-8c7a502ea8db"
      },
      "execution_count": null,
      "outputs": [
        {
          "output_type": "stream",
          "name": "stdout",
          "text": [
            "Mounted at /content/gdrive\n"
          ]
        }
      ]
    },
    {
      "cell_type": "code",
      "source": [
        "import os\n",
        "\n",
        "print(\"cwd \", os.getcwd())\n",
        "print(\"ls \", os.listdir())"
      ],
      "metadata": {
        "colab": {
          "base_uri": "https://localhost:8080/"
        },
        "id": "yVdCCycqjS8s",
        "outputId": "1f07fefc-80a1-4639-aaf4-3ba597843df5"
      },
      "execution_count": null,
      "outputs": [
        {
          "output_type": "stream",
          "name": "stdout",
          "text": [
            "cwd  /content\n",
            "ls  ['.config', 'gdrive', 'sample_data']\n"
          ]
        }
      ]
    },
    {
      "cell_type": "code",
      "source": [
        "path=\"/content/gdrive/My Drive/\"\n",
        "print(\"ls \", os.listdir(path))"
      ],
      "metadata": {
        "colab": {
          "base_uri": "https://localhost:8080/"
        },
        "id": "fGIHFGbGjWQ1",
        "outputId": "e66eee1a-8160-47c3-beea-35325e5b13c4"
      },
      "execution_count": null,
      "outputs": [
        {
          "output_type": "stream",
          "name": "stdout",
          "text": [
            "ls  ['Adsız doküman.gdoc', 'Survey for Comparison of Software Process Models.gform', 'Survey for Comparison of Software Process Models (Yanıtlar).gsheet', 'Yeni Microsoft Word Document.gdoc', 'Colab Notebooks', 'kaan.csv', 'classification_word2vec_3.ipynb', 'idefix.csv', 'all.csv', 'review3.csv', 'haydi_gokhan.csv', 'denemeee.txt', 'tfmrs_model.pkl', 'G17_Person.rar', 'denedik.h5', 'tokenizer.pickle', 'trtc.rar', 'SE494_Senior_Project_Video.mp4', 'Gökhan_Soyalp_PersonTaskApp.apk', 'Gökhan_Soyalp_CV.pdf', 'engin', 'model', '200_egitim.txt', 'ICModel.h5', 'veriseti.csv', 'veriler.csv']\n"
          ]
        }
      ]
    },
    {
      "cell_type": "code",
      "source": [
        "import matplotlib.pyplot as plt\n",
        "import pandas as pd\n",
        "import numpy as np"
      ],
      "metadata": {
        "id": "_vUKR1VqjYd_"
      },
      "execution_count": null,
      "outputs": []
    },
    {
      "cell_type": "code",
      "source": [
        "df = pd.DataFrame()\n",
        "df = pd.read_csv(path+'veriler.csv', encoding='utf-8')\n",
        "df.head(23)"
      ],
      "metadata": {
        "id": "Fc1QIMH4lk30",
        "colab": {
          "base_uri": "https://localhost:8080/",
          "height": 708
        },
        "outputId": "82dcae54-f46a-4941-ecb3-673c6a0074e5"
      },
      "execution_count": null,
      "outputs": [
        {
          "output_type": "execute_result",
          "data": {
            "text/html": [
              "\n",
              "  <div id=\"df-a5b6499b-2c65-454e-87fa-3f0e92c317df\">\n",
              "    <div class=\"colab-df-container\">\n",
              "      <div>\n",
              "<style scoped>\n",
              "    .dataframe tbody tr th:only-of-type {\n",
              "        vertical-align: middle;\n",
              "    }\n",
              "\n",
              "    .dataframe tbody tr th {\n",
              "        vertical-align: top;\n",
              "    }\n",
              "\n",
              "    .dataframe thead th {\n",
              "        text-align: right;\n",
              "    }\n",
              "</style>\n",
              "<table border=\"1\" class=\"dataframe\">\n",
              "  <thead>\n",
              "    <tr style=\"text-align: right;\">\n",
              "      <th></th>\n",
              "      <th>Egitim_ogretim_yili</th>\n",
              "      <th>Universite_adi</th>\n",
              "      <th>Fakulte_adi</th>\n",
              "      <th>Yeni_gelen_ogr_say</th>\n",
              "      <th>Mevcut_ogr_say</th>\n",
              "      <th>Mezun_ogr_say</th>\n",
              "      <th>Mezun_oran</th>\n",
              "      <th>Std_sapma</th>\n",
              "    </tr>\n",
              "  </thead>\n",
              "  <tbody>\n",
              "    <tr>\n",
              "      <th>0</th>\n",
              "      <td>2013-2014</td>\n",
              "      <td>HACETTEPE UNIVERSITESI</td>\n",
              "      <td>DEVLET KONSERVATUVARI</td>\n",
              "      <td>63</td>\n",
              "      <td>296</td>\n",
              "      <td>53</td>\n",
              "      <td>17.91</td>\n",
              "      <td>171.8269</td>\n",
              "    </tr>\n",
              "    <tr>\n",
              "      <th>1</th>\n",
              "      <td>2013-2014</td>\n",
              "      <td>HACETTEPE UNIVERSITESI</td>\n",
              "      <td>MUHENDISLIK FAKULTESI</td>\n",
              "      <td>859</td>\n",
              "      <td>4468</td>\n",
              "      <td>661</td>\n",
              "      <td>14.79</td>\n",
              "      <td>2691.9555</td>\n",
              "    </tr>\n",
              "    <tr>\n",
              "      <th>2</th>\n",
              "      <td>2013-2014</td>\n",
              "      <td>HACETTEPE UNIVERSITESI</td>\n",
              "      <td>TIP FAKULTESI</td>\n",
              "      <td>414</td>\n",
              "      <td>2378</td>\n",
              "      <td>280</td>\n",
              "      <td>11.71</td>\n",
              "      <td>1483.5100</td>\n",
              "    </tr>\n",
              "    <tr>\n",
              "      <th>3</th>\n",
              "      <td>2014-2015</td>\n",
              "      <td>HACETTEPE UNIVERSITESI</td>\n",
              "      <td>DEVLET KONSERVATUVARI</td>\n",
              "      <td>82</td>\n",
              "      <td>329</td>\n",
              "      <td>48</td>\n",
              "      <td>14.59</td>\n",
              "      <td>198.6970</td>\n",
              "    </tr>\n",
              "    <tr>\n",
              "      <th>4</th>\n",
              "      <td>2014-2015</td>\n",
              "      <td>HACETTEPE UNIVERSITESI</td>\n",
              "      <td>MUHENDISLIK FAKULTESI</td>\n",
              "      <td>911</td>\n",
              "      <td>4629</td>\n",
              "      <td>572</td>\n",
              "      <td>12.36</td>\n",
              "      <td>2868.7322</td>\n",
              "    </tr>\n",
              "    <tr>\n",
              "      <th>5</th>\n",
              "      <td>2014-2015</td>\n",
              "      <td>HACETTEPE UNIVERSITESI</td>\n",
              "      <td>TIP FAKULTESI</td>\n",
              "      <td>425</td>\n",
              "      <td>2529</td>\n",
              "      <td>326</td>\n",
              "      <td>12.89</td>\n",
              "      <td>1557.7562</td>\n",
              "    </tr>\n",
              "    <tr>\n",
              "      <th>6</th>\n",
              "      <td>2015-2016</td>\n",
              "      <td>HACETTEPE UNIVERSITESI</td>\n",
              "      <td>DEVLET KONSERVATUVARI</td>\n",
              "      <td>91</td>\n",
              "      <td>366</td>\n",
              "      <td>100</td>\n",
              "      <td>27.32</td>\n",
              "      <td>188.0904</td>\n",
              "    </tr>\n",
              "    <tr>\n",
              "      <th>7</th>\n",
              "      <td>2015-2016</td>\n",
              "      <td>HACETTEPE UNIVERSITESI</td>\n",
              "      <td>MUHENDISLIK FAKULTESI</td>\n",
              "      <td>952</td>\n",
              "      <td>4855</td>\n",
              "      <td>648</td>\n",
              "      <td>13.35</td>\n",
              "      <td>2974.7982</td>\n",
              "    </tr>\n",
              "    <tr>\n",
              "      <th>8</th>\n",
              "      <td>2015-2016</td>\n",
              "      <td>HACETTEPE UNIVERSITESI</td>\n",
              "      <td>TIP FAKULTESI</td>\n",
              "      <td>386</td>\n",
              "      <td>2583</td>\n",
              "      <td>286</td>\n",
              "      <td>11.07</td>\n",
              "      <td>1624.2243</td>\n",
              "    </tr>\n",
              "    <tr>\n",
              "      <th>9</th>\n",
              "      <td>2016-2017</td>\n",
              "      <td>HACETTEPE UNIVERSITESI</td>\n",
              "      <td>DEVLET KONSERVATUVARI</td>\n",
              "      <td>77</td>\n",
              "      <td>466</td>\n",
              "      <td>108</td>\n",
              "      <td>23.18</td>\n",
              "      <td>253.1442</td>\n",
              "    </tr>\n",
              "    <tr>\n",
              "      <th>10</th>\n",
              "      <td>2016-2017</td>\n",
              "      <td>HACETTEPE UNIVERSITESI</td>\n",
              "      <td>MUHENDISLIK FAKULTESI</td>\n",
              "      <td>952</td>\n",
              "      <td>5060</td>\n",
              "      <td>599</td>\n",
              "      <td>11.84</td>\n",
              "      <td>3154.4034</td>\n",
              "    </tr>\n",
              "    <tr>\n",
              "      <th>11</th>\n",
              "      <td>2016-2017</td>\n",
              "      <td>HACETTEPE UNIVERSITESI</td>\n",
              "      <td>TIP FAKULTESI</td>\n",
              "      <td>391</td>\n",
              "      <td>2671</td>\n",
              "      <td>318</td>\n",
              "      <td>11.91</td>\n",
              "      <td>1663.8223</td>\n",
              "    </tr>\n",
              "    <tr>\n",
              "      <th>12</th>\n",
              "      <td>2017-2018</td>\n",
              "      <td>HACETTEPE UNIVERSITESI</td>\n",
              "      <td>DEVLET KONSERVATUVARI</td>\n",
              "      <td>77</td>\n",
              "      <td>432</td>\n",
              "      <td>62</td>\n",
              "      <td>14.35</td>\n",
              "      <td>261.6295</td>\n",
              "    </tr>\n",
              "    <tr>\n",
              "      <th>13</th>\n",
              "      <td>2017-2018</td>\n",
              "      <td>HACETTEPE UNIVERSITESI</td>\n",
              "      <td>MUHENDISLIK FAKULTESI</td>\n",
              "      <td>1023</td>\n",
              "      <td>5423</td>\n",
              "      <td>578</td>\n",
              "      <td>10.66</td>\n",
              "      <td>3425.9324</td>\n",
              "    </tr>\n",
              "    <tr>\n",
              "      <th>14</th>\n",
              "      <td>2017-2018</td>\n",
              "      <td>HACETTEPE UNIVERSITESI</td>\n",
              "      <td>TIP FAKULTESI</td>\n",
              "      <td>397</td>\n",
              "      <td>2753</td>\n",
              "      <td>372</td>\n",
              "      <td>13.51</td>\n",
              "      <td>1683.6212</td>\n",
              "    </tr>\n",
              "    <tr>\n",
              "      <th>15</th>\n",
              "      <td>2018-2019</td>\n",
              "      <td>HACETTEPE UNIVERSITESI</td>\n",
              "      <td>DEVLET KONSERVATUVARI</td>\n",
              "      <td>51</td>\n",
              "      <td>409</td>\n",
              "      <td>77</td>\n",
              "      <td>18.83</td>\n",
              "      <td>234.7595</td>\n",
              "    </tr>\n",
              "    <tr>\n",
              "      <th>16</th>\n",
              "      <td>2018-2019</td>\n",
              "      <td>HACETTEPE UNIVERSITESI</td>\n",
              "      <td>MUHENDISLIK FAKULTESI</td>\n",
              "      <td>1048</td>\n",
              "      <td>5757</td>\n",
              "      <td>768</td>\n",
              "      <td>13.34</td>\n",
              "      <td>3527.7557</td>\n",
              "    </tr>\n",
              "    <tr>\n",
              "      <th>17</th>\n",
              "      <td>2018-2019</td>\n",
              "      <td>HACETTEPE UNIVERSITESI</td>\n",
              "      <td>TIP FAKULTESI</td>\n",
              "      <td>410</td>\n",
              "      <td>2767</td>\n",
              "      <td>393</td>\n",
              "      <td>14.20</td>\n",
              "      <td>1678.6715</td>\n",
              "    </tr>\n",
              "    <tr>\n",
              "      <th>18</th>\n",
              "      <td>2019-2020</td>\n",
              "      <td>HACETTEPE UNIVERSITESI</td>\n",
              "      <td>DEVLET KONSERVATUVARI</td>\n",
              "      <td>77</td>\n",
              "      <td>401</td>\n",
              "      <td>66</td>\n",
              "      <td>16.46</td>\n",
              "      <td>236.8808</td>\n",
              "    </tr>\n",
              "    <tr>\n",
              "      <th>19</th>\n",
              "      <td>2019-2020</td>\n",
              "      <td>HACETTEPE UNIVERSITESI</td>\n",
              "      <td>MUHENDISLIK FAKULTESI</td>\n",
              "      <td>1098</td>\n",
              "      <td>6080</td>\n",
              "      <td>832</td>\n",
              "      <td>13.68</td>\n",
              "      <td>3710.8969</td>\n",
              "    </tr>\n",
              "    <tr>\n",
              "      <th>20</th>\n",
              "      <td>2019-2020</td>\n",
              "      <td>HACETTEPE UNIVERSITESI</td>\n",
              "      <td>TIP FAKULTESI</td>\n",
              "      <td>393</td>\n",
              "      <td>2756</td>\n",
              "      <td>384</td>\n",
              "      <td>13.93</td>\n",
              "      <td>1677.2573</td>\n",
              "    </tr>\n",
              "  </tbody>\n",
              "</table>\n",
              "</div>\n",
              "      <button class=\"colab-df-convert\" onclick=\"convertToInteractive('df-a5b6499b-2c65-454e-87fa-3f0e92c317df')\"\n",
              "              title=\"Convert this dataframe to an interactive table.\"\n",
              "              style=\"display:none;\">\n",
              "        \n",
              "  <svg xmlns=\"http://www.w3.org/2000/svg\" height=\"24px\"viewBox=\"0 0 24 24\"\n",
              "       width=\"24px\">\n",
              "    <path d=\"M0 0h24v24H0V0z\" fill=\"none\"/>\n",
              "    <path d=\"M18.56 5.44l.94 2.06.94-2.06 2.06-.94-2.06-.94-.94-2.06-.94 2.06-2.06.94zm-11 1L8.5 8.5l.94-2.06 2.06-.94-2.06-.94L8.5 2.5l-.94 2.06-2.06.94zm10 10l.94 2.06.94-2.06 2.06-.94-2.06-.94-.94-2.06-.94 2.06-2.06.94z\"/><path d=\"M17.41 7.96l-1.37-1.37c-.4-.4-.92-.59-1.43-.59-.52 0-1.04.2-1.43.59L10.3 9.45l-7.72 7.72c-.78.78-.78 2.05 0 2.83L4 21.41c.39.39.9.59 1.41.59.51 0 1.02-.2 1.41-.59l7.78-7.78 2.81-2.81c.8-.78.8-2.07 0-2.86zM5.41 20L4 18.59l7.72-7.72 1.47 1.35L5.41 20z\"/>\n",
              "  </svg>\n",
              "      </button>\n",
              "      \n",
              "  <style>\n",
              "    .colab-df-container {\n",
              "      display:flex;\n",
              "      flex-wrap:wrap;\n",
              "      gap: 12px;\n",
              "    }\n",
              "\n",
              "    .colab-df-convert {\n",
              "      background-color: #E8F0FE;\n",
              "      border: none;\n",
              "      border-radius: 50%;\n",
              "      cursor: pointer;\n",
              "      display: none;\n",
              "      fill: #1967D2;\n",
              "      height: 32px;\n",
              "      padding: 0 0 0 0;\n",
              "      width: 32px;\n",
              "    }\n",
              "\n",
              "    .colab-df-convert:hover {\n",
              "      background-color: #E2EBFA;\n",
              "      box-shadow: 0px 1px 2px rgba(60, 64, 67, 0.3), 0px 1px 3px 1px rgba(60, 64, 67, 0.15);\n",
              "      fill: #174EA6;\n",
              "    }\n",
              "\n",
              "    [theme=dark] .colab-df-convert {\n",
              "      background-color: #3B4455;\n",
              "      fill: #D2E3FC;\n",
              "    }\n",
              "\n",
              "    [theme=dark] .colab-df-convert:hover {\n",
              "      background-color: #434B5C;\n",
              "      box-shadow: 0px 1px 3px 1px rgba(0, 0, 0, 0.15);\n",
              "      filter: drop-shadow(0px 1px 2px rgba(0, 0, 0, 0.3));\n",
              "      fill: #FFFFFF;\n",
              "    }\n",
              "  </style>\n",
              "\n",
              "      <script>\n",
              "        const buttonEl =\n",
              "          document.querySelector('#df-a5b6499b-2c65-454e-87fa-3f0e92c317df button.colab-df-convert');\n",
              "        buttonEl.style.display =\n",
              "          google.colab.kernel.accessAllowed ? 'block' : 'none';\n",
              "\n",
              "        async function convertToInteractive(key) {\n",
              "          const element = document.querySelector('#df-a5b6499b-2c65-454e-87fa-3f0e92c317df');\n",
              "          const dataTable =\n",
              "            await google.colab.kernel.invokeFunction('convertToInteractive',\n",
              "                                                     [key], {});\n",
              "          if (!dataTable) return;\n",
              "\n",
              "          const docLinkHtml = 'Like what you see? Visit the ' +\n",
              "            '<a target=\"_blank\" href=https://colab.research.google.com/notebooks/data_table.ipynb>data table notebook</a>'\n",
              "            + ' to learn more about interactive tables.';\n",
              "          element.innerHTML = '';\n",
              "          dataTable['output_type'] = 'display_data';\n",
              "          await google.colab.output.renderOutput(dataTable, element);\n",
              "          const docLink = document.createElement('div');\n",
              "          docLink.innerHTML = docLinkHtml;\n",
              "          element.appendChild(docLink);\n",
              "        }\n",
              "      </script>\n",
              "    </div>\n",
              "  </div>\n",
              "  "
            ],
            "text/plain": [
              "   Egitim_ogretim_yili          Universite_adi  ... Mezun_oran  Std_sapma\n",
              "0            2013-2014  HACETTEPE UNIVERSITESI  ...      17.91   171.8269\n",
              "1            2013-2014  HACETTEPE UNIVERSITESI  ...      14.79  2691.9555\n",
              "2            2013-2014  HACETTEPE UNIVERSITESI  ...      11.71  1483.5100\n",
              "3            2014-2015  HACETTEPE UNIVERSITESI  ...      14.59   198.6970\n",
              "4            2014-2015  HACETTEPE UNIVERSITESI  ...      12.36  2868.7322\n",
              "5            2014-2015  HACETTEPE UNIVERSITESI  ...      12.89  1557.7562\n",
              "6            2015-2016  HACETTEPE UNIVERSITESI  ...      27.32   188.0904\n",
              "7            2015-2016  HACETTEPE UNIVERSITESI  ...      13.35  2974.7982\n",
              "8            2015-2016  HACETTEPE UNIVERSITESI  ...      11.07  1624.2243\n",
              "9            2016-2017  HACETTEPE UNIVERSITESI  ...      23.18   253.1442\n",
              "10           2016-2017  HACETTEPE UNIVERSITESI  ...      11.84  3154.4034\n",
              "11           2016-2017  HACETTEPE UNIVERSITESI  ...      11.91  1663.8223\n",
              "12           2017-2018  HACETTEPE UNIVERSITESI  ...      14.35   261.6295\n",
              "13           2017-2018  HACETTEPE UNIVERSITESI  ...      10.66  3425.9324\n",
              "14           2017-2018  HACETTEPE UNIVERSITESI  ...      13.51  1683.6212\n",
              "15           2018-2019  HACETTEPE UNIVERSITESI  ...      18.83   234.7595\n",
              "16           2018-2019  HACETTEPE UNIVERSITESI  ...      13.34  3527.7557\n",
              "17           2018-2019  HACETTEPE UNIVERSITESI  ...      14.20  1678.6715\n",
              "18           2019-2020  HACETTEPE UNIVERSITESI  ...      16.46   236.8808\n",
              "19           2019-2020  HACETTEPE UNIVERSITESI  ...      13.68  3710.8969\n",
              "20           2019-2020  HACETTEPE UNIVERSITESI  ...      13.93  1677.2573\n",
              "\n",
              "[21 rows x 8 columns]"
            ]
          },
          "metadata": {},
          "execution_count": 162
        }
      ]
    },
    {
      "cell_type": "code",
      "source": [
        "df.isnull().sum()"
      ],
      "metadata": {
        "colab": {
          "base_uri": "https://localhost:8080/"
        },
        "id": "hA4g9Gfv5COx",
        "outputId": "64460ecf-b51a-4feb-d6cc-6456fe402c15"
      },
      "execution_count": null,
      "outputs": [
        {
          "output_type": "execute_result",
          "data": {
            "text/plain": [
              "Egitim_ogretim_yili    0\n",
              "Universite_adi         0\n",
              "Fakulte_adi            0\n",
              "Yeni_gelen_ogr_say     0\n",
              "Mevcut_ogr_say         0\n",
              "Mezun_ogr_say          0\n",
              "Mezun_oran             0\n",
              "Std_sapma              0\n",
              "dtype: int64"
            ]
          },
          "metadata": {},
          "execution_count": 163
        }
      ]
    },
    {
      "cell_type": "code",
      "source": [
        "import pandas as pd\n",
        "import numpy as np\n",
        "from sklearn import pipeline,preprocessing,metrics,model_selection,ensemble\n",
        "from sklearn_pandas import DataFrameMapper"
      ],
      "metadata": {
        "id": "CP8rj3ykK1dI"
      },
      "execution_count": null,
      "outputs": []
    },
    {
      "cell_type": "code",
      "source": [
        "mapper = DataFrameMapper([\n",
        "                        (['Mevcut_ogr_say','Mezun_ogr_say'], preprocessing.StandardScaler()),\n",
        "                        (['Mezun_ogr_say'], preprocessing.OneHotEncoder(handle_unknown = \"ignore\"))\n",
        "                        ])"
      ],
      "metadata": {
        "id": "IY9VNo956iF4"
      },
      "execution_count": null,
      "outputs": []
    },
    {
      "cell_type": "code",
      "source": [
        "pipeline_obj = pipeline.Pipeline([\n",
        "    ('mapper',mapper),\n",
        "    (\"model\", ensemble.RandomForestRegressor())\n",
        "])"
      ],
      "metadata": {
        "id": "F1R6kx8oBg7s"
      },
      "execution_count": null,
      "outputs": []
    },
    {
      "cell_type": "code",
      "source": [
        "X=['Mevcut_ogr_say','Mezun_ogr_say']\n",
        "Y=['Mevcut_ogr_say']"
      ],
      "metadata": {
        "id": "ZmIRE9TMFQkK"
      },
      "execution_count": null,
      "outputs": []
    },
    {
      "cell_type": "code",
      "source": [
        "df.columns"
      ],
      "metadata": {
        "colab": {
          "base_uri": "https://localhost:8080/"
        },
        "id": "-Zir3vewL2j3",
        "outputId": "9b1a63c1-8dee-4682-806f-65ff2c2b5262"
      },
      "execution_count": null,
      "outputs": [
        {
          "output_type": "execute_result",
          "data": {
            "text/plain": [
              "Index(['Egitim_ogretim_yili', 'Universite_adi', 'Fakulte_adi',\n",
              "       'Yeni_gelen_ogr_say', 'Mevcut_ogr_say', 'Mezun_ogr_say', 'Mezun_oran',\n",
              "       'Std_sapma'],\n",
              "      dtype='object')"
            ]
          },
          "metadata": {},
          "execution_count": 189
        }
      ]
    },
    {
      "cell_type": "code",
      "source": [
        "pipeline_obj.fit(df[X],df[Y])"
      ],
      "metadata": {
        "colab": {
          "base_uri": "https://localhost:8080/"
        },
        "id": "9LCAL7scLunW",
        "outputId": "a7c7bf14-2665-4ee4-f2b1-00cab6c96494"
      },
      "execution_count": null,
      "outputs": [
        {
          "output_type": "stream",
          "name": "stderr",
          "text": [
            "/usr/local/lib/python3.7/dist-packages/sklearn/utils/deprecation.py:87: FutureWarning: Function get_feature_names is deprecated; get_feature_names is deprecated in 1.0 and will be removed in 1.2. Please use get_feature_names_out instead.\n",
            "  warnings.warn(msg, category=FutureWarning)\n",
            "/usr/local/lib/python3.7/dist-packages/sklearn/pipeline.py:394: DataConversionWarning: A column-vector y was passed when a 1d array was expected. Please change the shape of y to (n_samples,), for example using ravel().\n",
            "  self._final_estimator.fit(Xt, y, **fit_params_last_step)\n"
          ]
        },
        {
          "output_type": "execute_result",
          "data": {
            "text/plain": [
              "Pipeline(steps=[('mapper',\n",
              "                 DataFrameMapper(features=[(['Mevcut_ogr_say', 'Mezun_ogr_say'],\n",
              "                                            StandardScaler()),\n",
              "                                           (['Mezun_ogr_say'],\n",
              "                                            OneHotEncoder(handle_unknown='ignore'))])),\n",
              "                ('model', RandomForestRegressor())])"
            ]
          },
          "metadata": {},
          "execution_count": 190
        }
      ]
    },
    {
      "cell_type": "code",
      "source": [
        "pipeline_obj.predict(df[X])"
      ],
      "metadata": {
        "colab": {
          "base_uri": "https://localhost:8080/"
        },
        "id": "KXmPjQIsMlMl",
        "outputId": "53e96230-99d8-4331-f46a-f236e6bab50d"
      },
      "execution_count": null,
      "outputs": [
        {
          "output_type": "stream",
          "name": "stderr",
          "text": [
            "/usr/local/lib/python3.7/dist-packages/sklearn/utils/deprecation.py:87: FutureWarning: Function get_feature_names is deprecated; get_feature_names is deprecated in 1.0 and will be removed in 1.2. Please use get_feature_names_out instead.\n",
            "  warnings.warn(msg, category=FutureWarning)\n"
          ]
        },
        {
          "output_type": "execute_result",
          "data": {
            "text/plain": [
              "array([ 321.18, 4665.41, 2444.18,  333.21, 4742.59, 2559.4 ,  378.54,\n",
              "       4853.69, 2568.15,  441.23, 5004.34, 2666.05,  412.34, 5334.52,\n",
              "       2747.43,  403.25, 5759.05, 2753.15,  400.95, 5920.91, 2748.27])"
            ]
          },
          "metadata": {},
          "execution_count": 191
        }
      ]
    },
    {
      "cell_type": "code",
      "source": [
        "import joblib"
      ],
      "metadata": {
        "id": "hJ38ql30MxH1"
      },
      "execution_count": null,
      "outputs": []
    },
    {
      "cell_type": "code",
      "source": [
        "joblib.dump(pipeline_obj,'RFModelforEducation.pkl')"
      ],
      "metadata": {
        "colab": {
          "base_uri": "https://localhost:8080/"
        },
        "id": "FTH2O_S7MxxO",
        "outputId": "4eda8ba9-780d-476d-b650-2f1673c6f299"
      },
      "execution_count": null,
      "outputs": [
        {
          "output_type": "execute_result",
          "data": {
            "text/plain": [
              "['RFModelforEducation.pkl']"
            ]
          },
          "metadata": {},
          "execution_count": 193
        }
      ]
    },
    {
      "cell_type": "code",
      "source": [
        "modelReload=joblib.load('RFModelforEducation.pkl')"
      ],
      "metadata": {
        "id": "49xHUtenNK5L"
      },
      "execution_count": null,
      "outputs": []
    },
    {
      "cell_type": "code",
      "source": [
        "modelReload.predict(df[X])"
      ],
      "metadata": {
        "colab": {
          "base_uri": "https://localhost:8080/"
        },
        "id": "52OZdO8TNToK",
        "outputId": "9858bcd2-2f08-479c-8dc2-66b3859de84c"
      },
      "execution_count": null,
      "outputs": [
        {
          "output_type": "stream",
          "name": "stderr",
          "text": [
            "/usr/local/lib/python3.7/dist-packages/sklearn/utils/deprecation.py:87: FutureWarning: Function get_feature_names is deprecated; get_feature_names is deprecated in 1.0 and will be removed in 1.2. Please use get_feature_names_out instead.\n",
            "  warnings.warn(msg, category=FutureWarning)\n"
          ]
        },
        {
          "output_type": "execute_result",
          "data": {
            "text/plain": [
              "array([ 321.18, 4665.41, 2444.18,  333.21, 4742.59, 2559.4 ,  378.54,\n",
              "       4853.69, 2568.15,  441.23, 5004.34, 2666.05,  412.34, 5334.52,\n",
              "       2747.43,  403.25, 5759.05, 2753.15,  400.95, 5920.91, 2748.27])"
            ]
          },
          "metadata": {},
          "execution_count": 195
        }
      ]
    },
    {
      "cell_type": "code",
      "source": [
        "temp={}\n",
        "temp['Mevcut_ogr_say']=1\n",
        "temp['Mezun_ogr_say']=2"
      ],
      "metadata": {
        "id": "f15C87ctNb5h"
      },
      "execution_count": null,
      "outputs": []
    },
    {
      "cell_type": "code",
      "source": [
        "testDtaa=pd.DataFrame({'x':temp}).transpose()"
      ],
      "metadata": {
        "id": "8XrOoJXuNxz0"
      },
      "execution_count": null,
      "outputs": []
    },
    {
      "cell_type": "code",
      "source": [
        "testDtaa"
      ],
      "metadata": {
        "colab": {
          "base_uri": "https://localhost:8080/",
          "height": 81
        },
        "id": "-y-IngguN1qc",
        "outputId": "0a497773-cdba-46f9-f74f-d632db494d92"
      },
      "execution_count": null,
      "outputs": [
        {
          "output_type": "execute_result",
          "data": {
            "text/html": [
              "\n",
              "  <div id=\"df-7e7c455d-04ae-43dd-8c08-bd870e46ee36\">\n",
              "    <div class=\"colab-df-container\">\n",
              "      <div>\n",
              "<style scoped>\n",
              "    .dataframe tbody tr th:only-of-type {\n",
              "        vertical-align: middle;\n",
              "    }\n",
              "\n",
              "    .dataframe tbody tr th {\n",
              "        vertical-align: top;\n",
              "    }\n",
              "\n",
              "    .dataframe thead th {\n",
              "        text-align: right;\n",
              "    }\n",
              "</style>\n",
              "<table border=\"1\" class=\"dataframe\">\n",
              "  <thead>\n",
              "    <tr style=\"text-align: right;\">\n",
              "      <th></th>\n",
              "      <th>Mevcut_ogr_say</th>\n",
              "      <th>Mezun_ogr_say</th>\n",
              "    </tr>\n",
              "  </thead>\n",
              "  <tbody>\n",
              "    <tr>\n",
              "      <th>x</th>\n",
              "      <td>1</td>\n",
              "      <td>2</td>\n",
              "    </tr>\n",
              "  </tbody>\n",
              "</table>\n",
              "</div>\n",
              "      <button class=\"colab-df-convert\" onclick=\"convertToInteractive('df-7e7c455d-04ae-43dd-8c08-bd870e46ee36')\"\n",
              "              title=\"Convert this dataframe to an interactive table.\"\n",
              "              style=\"display:none;\">\n",
              "        \n",
              "  <svg xmlns=\"http://www.w3.org/2000/svg\" height=\"24px\"viewBox=\"0 0 24 24\"\n",
              "       width=\"24px\">\n",
              "    <path d=\"M0 0h24v24H0V0z\" fill=\"none\"/>\n",
              "    <path d=\"M18.56 5.44l.94 2.06.94-2.06 2.06-.94-2.06-.94-.94-2.06-.94 2.06-2.06.94zm-11 1L8.5 8.5l.94-2.06 2.06-.94-2.06-.94L8.5 2.5l-.94 2.06-2.06.94zm10 10l.94 2.06.94-2.06 2.06-.94-2.06-.94-.94-2.06-.94 2.06-2.06.94z\"/><path d=\"M17.41 7.96l-1.37-1.37c-.4-.4-.92-.59-1.43-.59-.52 0-1.04.2-1.43.59L10.3 9.45l-7.72 7.72c-.78.78-.78 2.05 0 2.83L4 21.41c.39.39.9.59 1.41.59.51 0 1.02-.2 1.41-.59l7.78-7.78 2.81-2.81c.8-.78.8-2.07 0-2.86zM5.41 20L4 18.59l7.72-7.72 1.47 1.35L5.41 20z\"/>\n",
              "  </svg>\n",
              "      </button>\n",
              "      \n",
              "  <style>\n",
              "    .colab-df-container {\n",
              "      display:flex;\n",
              "      flex-wrap:wrap;\n",
              "      gap: 12px;\n",
              "    }\n",
              "\n",
              "    .colab-df-convert {\n",
              "      background-color: #E8F0FE;\n",
              "      border: none;\n",
              "      border-radius: 50%;\n",
              "      cursor: pointer;\n",
              "      display: none;\n",
              "      fill: #1967D2;\n",
              "      height: 32px;\n",
              "      padding: 0 0 0 0;\n",
              "      width: 32px;\n",
              "    }\n",
              "\n",
              "    .colab-df-convert:hover {\n",
              "      background-color: #E2EBFA;\n",
              "      box-shadow: 0px 1px 2px rgba(60, 64, 67, 0.3), 0px 1px 3px 1px rgba(60, 64, 67, 0.15);\n",
              "      fill: #174EA6;\n",
              "    }\n",
              "\n",
              "    [theme=dark] .colab-df-convert {\n",
              "      background-color: #3B4455;\n",
              "      fill: #D2E3FC;\n",
              "    }\n",
              "\n",
              "    [theme=dark] .colab-df-convert:hover {\n",
              "      background-color: #434B5C;\n",
              "      box-shadow: 0px 1px 3px 1px rgba(0, 0, 0, 0.15);\n",
              "      filter: drop-shadow(0px 1px 2px rgba(0, 0, 0, 0.3));\n",
              "      fill: #FFFFFF;\n",
              "    }\n",
              "  </style>\n",
              "\n",
              "      <script>\n",
              "        const buttonEl =\n",
              "          document.querySelector('#df-7e7c455d-04ae-43dd-8c08-bd870e46ee36 button.colab-df-convert');\n",
              "        buttonEl.style.display =\n",
              "          google.colab.kernel.accessAllowed ? 'block' : 'none';\n",
              "\n",
              "        async function convertToInteractive(key) {\n",
              "          const element = document.querySelector('#df-7e7c455d-04ae-43dd-8c08-bd870e46ee36');\n",
              "          const dataTable =\n",
              "            await google.colab.kernel.invokeFunction('convertToInteractive',\n",
              "                                                     [key], {});\n",
              "          if (!dataTable) return;\n",
              "\n",
              "          const docLinkHtml = 'Like what you see? Visit the ' +\n",
              "            '<a target=\"_blank\" href=https://colab.research.google.com/notebooks/data_table.ipynb>data table notebook</a>'\n",
              "            + ' to learn more about interactive tables.';\n",
              "          element.innerHTML = '';\n",
              "          dataTable['output_type'] = 'display_data';\n",
              "          await google.colab.output.renderOutput(dataTable, element);\n",
              "          const docLink = document.createElement('div');\n",
              "          docLink.innerHTML = docLinkHtml;\n",
              "          element.appendChild(docLink);\n",
              "        }\n",
              "      </script>\n",
              "    </div>\n",
              "  </div>\n",
              "  "
            ],
            "text/plain": [
              "   Mevcut_ogr_say  Mezun_ogr_say\n",
              "x               1              2"
            ]
          },
          "metadata": {},
          "execution_count": 206
        }
      ]
    },
    {
      "cell_type": "code",
      "source": [
        "modelReload.predict(testDtaa)[0]"
      ],
      "metadata": {
        "colab": {
          "base_uri": "https://localhost:8080/"
        },
        "id": "uW3yS9vhN6R_",
        "outputId": "e60dd753-92cb-4d39-fa85-2c75f07615b6"
      },
      "execution_count": null,
      "outputs": [
        {
          "output_type": "stream",
          "name": "stderr",
          "text": [
            "/usr/local/lib/python3.7/dist-packages/sklearn/utils/deprecation.py:87: FutureWarning: Function get_feature_names is deprecated; get_feature_names is deprecated in 1.0 and will be removed in 1.2. Please use get_feature_names_out instead.\n",
            "  warnings.warn(msg, category=FutureWarning)\n"
          ]
        },
        {
          "output_type": "execute_result",
          "data": {
            "text/plain": [
              "331.26"
            ]
          },
          "metadata": {},
          "execution_count": 207
        }
      ]
    }
  ]
}